{
 "cells": [
  {
   "cell_type": "code",
   "execution_count": 3,
   "metadata": {},
   "outputs": [],
   "source": [
    "import requests\n",
    "import pandas as pd"
   ]
  },
  {
   "cell_type": "code",
   "execution_count": 7,
   "metadata": {},
   "outputs": [],
   "source": [
    "categories = [\"HP\", \"Atk\", \"Def\", \"SpAtk\", \"SPDef\", \"Spd\"]\n",
    "pokedict = {\"id\": [], \"Name\": [], \"HP\": [], \"Atk\": [], \"Def\": [], \"SpAtk\": [],\n",
    "            \"SPDef\": [], \"Spd\": [], \"Weight\": [], \"Height\": [], \"Rarity\": [],\n",
    "            \"Type1\": [], \"Type2\": []}\n",
    "\n",
    "for i in range(1008):\n",
    "    url = f\"https://pokeapi.co/api/v2/pokemon/{i+1}\"\n",
    "    pokeponse = requests.get(url)\n",
    "    pokelist = pokeponse.json()\n",
    "    pokeponse.close()\n",
    "\n",
    "    pokedict[\"id\"].append(pokelist[\"id\"])\n",
    "    pokedict[\"Name\"].append(pokelist[\"name\"])\n",
    "    pokedict[\"Weight\"].append(pokelist[\"weight\"])\n",
    "    pokedict[\"Height\"].append(pokelist[\"height\"])\n",
    "    pokedict[\"Type1\"].append(pokelist[\"types\"][0][\"type\"][\"name\"])\n",
    "    if len(pokelist[\"types\"]) > 1:\n",
    "        pokedict[\"Type2\"].append(pokelist[\"types\"][1][\"type\"][\"name\"])\n",
    "    else:\n",
    "        pokedict[\"Type2\"].append(pokelist[\"types\"][0][\"type\"][\"name\"])\n",
    "    for j in range(6):\n",
    "        pokedict[categories[j]].append(pokelist[\"stats\"][j][\"base_stat\"])\n",
    "\n",
    "    url = f\"https://pokeapi.co/api/v2/pokemon-species/{i+1}\"\n",
    "    pokeponse = requests.get(url)\n",
    "    pokelist = pokeponse.json()\n",
    "    pokeponse.close()\n",
    "\n",
    "    if pokelist[\"is_mythical\"] == True:\n",
    "        rarity = \"Mythical\"\n",
    "    elif pokelist[\"is_legendary\"] == True:\n",
    "        rarity = \"Legendary\"\n",
    "    else:\n",
    "        rarity = \"Common\"\n",
    "\n",
    "    pokedict[\"Rarity\"].append(rarity)\n",
    "\n",
    "pokedex = pd.DataFrame.from_dict(pokedict).set_index(\"id\")\n",
    "pokedex.to_csv(\"Dataframe/pokedex.csv\")\n"
   ]
  }
 ],
 "metadata": {
  "kernelspec": {
   "display_name": "Python 3",
   "language": "python",
   "name": "python3"
  },
  "language_info": {
   "codemirror_mode": {
    "name": "ipython",
    "version": 3
   },
   "file_extension": ".py",
   "mimetype": "text/x-python",
   "name": "python",
   "nbconvert_exporter": "python",
   "pygments_lexer": "ipython3",
   "version": "3.10.10"
  },
  "orig_nbformat": 4,
  "vscode": {
   "interpreter": {
    "hash": "acf11c78531079ffacb729f918b01a0ae923385955b1de397a24054c085144e4"
   }
  }
 },
 "nbformat": 4,
 "nbformat_minor": 2
}
